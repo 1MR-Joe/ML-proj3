{
 "cells": [
  {
   "cell_type": "markdown",
   "metadata": {},
   "source": [
    "## Data importing"
   ]
  },
  {
   "cell_type": "code",
   "execution_count": 1,
   "metadata": {},
   "outputs": [
    {
     "name": "stdout",
     "output_type": "stream",
     "text": [
      "./data/s1\n",
      "./data/s2\n"
     ]
    }
   ],
   "source": [
    "paths = [\"./data/s\" + str(i) for i in range(1, 41)]\n",
    "print(paths[0])\n",
    "print(paths[1])"
   ]
  },
  {
   "cell_type": "code",
   "execution_count": 2,
   "metadata": {},
   "outputs": [
    {
     "name": "stdout",
     "output_type": "stream",
     "text": [
      "(92, 112)\n"
     ]
    },
    {
     "data": {
      "image/jpeg": "[encoded data removed]",
      "image/png": "[encoded data removed]",
      "text/plain": [
       "<PIL.PpmImagePlugin.PpmImageFile image mode=L size=92x112>"
      ]
     },
     "execution_count": 2,
     "metadata": {},
     "output_type": "execute_result"
    }
   ],
   "source": [
    "from PIL import Image\n",
    "img = Image.open('./data/s1/1.pgm')\n",
    "print(img.size)\n",
    "img"
   ]
  },
  {
   "cell_type": "markdown",
   "metadata": {},
   "source": [
    "## Converting to Matrix"
   ]
  },
  {
   "cell_type": "code",
   "execution_count": 3,
   "metadata": {},
   "outputs": [
    {
     "data": {
      "text/plain": [
       "(400, 10304)"
      ]
     },
     "execution_count": 3,
     "metadata": {},
     "output_type": "execute_result"
    }
   ],
   "source": [
    "import os\n",
    "import numpy as np\n",
    "\n",
    "data = []\n",
    "\n",
    "for path in paths:\n",
    "    files = os.listdir(path)\n",
    "\n",
    "    for file in files:\n",
    "        img = Image.open(path + \"/\" + file)\n",
    "        img = np.array(img)\n",
    "        img = img.flatten()\n",
    "        data.append(img)\n",
    "        \n",
    "data = np.array(data)\n",
    "data.shape"
   ]
  },
  {
   "cell_type": "code",
   "execution_count": 4,
   "metadata": {},
   "outputs": [
    {
     "data": {
      "text/plain": [
       "(400,)"
      ]
     },
     "execution_count": 4,
     "metadata": {},
     "output_type": "execute_result"
    }
   ],
   "source": [
    "labels = []\n",
    "\n",
    "for i in range(1, 41):\n",
    "    tmp = [i] * 10\n",
    "    labels += tmp\n",
    "\n",
    "labels = np.array(labels)\n",
    "labels.shape"
   ]
  },
  {
   "cell_type": "markdown",
   "metadata": {},
   "source": [
    "## Data splitting"
   ]
  },
  {
   "cell_type": "code",
   "execution_count": 5,
   "metadata": {},
   "outputs": [
    {
     "name": "stdout",
     "output_type": "stream",
     "text": [
      "(200, 10304)\n",
      "(200, 10304)\n",
      "(200,)\n",
      "(200,)\n"
     ]
    }
   ],
   "source": [
    "x_train = []\n",
    "x_test = []\n",
    "y_train = []\n",
    "y_test = []\n",
    "\n",
    "for i in range(data.shape[0]):\n",
    "    if (i+1) % 2 == 0:\n",
    "        x_test.append(data[i])\n",
    "        y_test.append(labels[i])\n",
    "    else:\n",
    "        x_train.append(data[i])\n",
    "        y_train.append(labels[i])\n",
    "\n",
    "x_train = np.array(x_train)\n",
    "x_test = np.array(x_test)\n",
    "y_train = np.array(y_train)\n",
    "y_test = np.array(y_test)\n",
    "\n",
    "print(x_train.shape)\n",
    "print(x_test.shape)\n",
    "print(y_train.shape)\n",
    "print(y_test.shape)"
   ]
  },
  {
   "cell_type": "markdown",
   "metadata": {},
   "source": [
    "## Classification using PCA"
   ]
  },
  {
   "cell_type": "code",
   "execution_count": 7,
   "metadata": {},
   "outputs": [
    {
     "name": "stdout",
     "output_type": "stream",
     "text": [
      "accuracy_score for alpha 0.8: 0.945\n",
      "accuracy_score for alpha 0.85: 0.94\n",
      "accuracy_score for alpha 0.9: 0.94\n",
      "accuracy_score for alpha 0.95: 0.93\n"
     ]
    }
   ],
   "source": [
    "from sklearn.decomposition import PCA\n",
    "from sklearn.neighbors import KNeighborsClassifier\n",
    "from sklearn.metrics import accuracy_score\n",
    "import matplotlib.pyplot as plt\n",
    "\n",
    "\n",
    "alphas = [0.8, 0.85, 0.9, 0.95]\n",
    "\n",
    "scores = []\n",
    "\n",
    "for alpha in alphas:\n",
    "    pca = PCA(n_components=alpha)\n",
    "    x_train_pca = pca.fit_transform(x_train)\n",
    "    x_test_pca = pca.transform(x_test)\n",
    "\n",
    "    classifier = KNeighborsClassifier(n_neighbors=1)\n",
    "    classifier.fit(x_train_pca, y_train)\n",
    "\n",
    "\n",
    "    predictions = classifier.predict(x_test_pca)\n",
    "\n",
    "    accuracy = accuracy_score(y_test, predictions)\n",
    "    print(f'accuracy_score for alpha {alpha}: {accuracy}')\n",
    "    scores.append(accuracy)\n",
    "\n"
   ]
  },
  {
   "cell_type": "code",
   "execution_count": 10,
   "metadata": {},
   "outputs": [],
   "source": [
    "import numpy as np\n",
    "from sklearn.neighbors import KNeighborsClassifier\n",
    "\n",
    "def PCA(D, alpha, mu):\n",
    "    results = {}\n",
    "    #mu = np.mean(D, axis=0)\n",
    "    z = D - mu\n",
    "    sigma =np.cov(z, rowvar=False)\n",
    "\n",
    "    eigen_values, eigen_Vectors = np.linalg.eigh(sigma)\n",
    "    total_variance = np.sum(eigen_values)\n",
    "\n",
    "    for alpha in alphas:\n",
    "        r = np.argmax(np.cumsum(eigen_values[::-1]) / total_variance >= alpha)\n",
    "\n",
    "        u_r = eigen_Vectors[:, -r-1:]\n",
    "        A = np.dot(u_r.T, z.T)\n",
    "        results[alpha] = (u_r, A)\n",
    "    return results"
   ]
  },
  {
   "cell_type": "code",
   "execution_count": 11,
   "metadata": {},
   "outputs": [
    {
     "name": "stdout",
     "output_type": "stream",
     "text": [
      "Accuracy for alpha: 0.8: 0.94\n",
      "Accuracy for alpha: 0.85: 0.94\n",
      "Accuracy for alpha: 0.9: 0.94\n",
      "Accuracy for alpha: 0.95: 0.93\n"
     ]
    }
   ],
   "source": [
    "alphas = [0.8, 0.85,0.9, 0.95]\n",
    "\n",
    "mu = np.mean(x_train, axis=0)\n",
    "training_set = PCA(x_train, alphas, mu)\n",
    "\n",
    "\n",
    "knn = KNeighborsClassifier(n_neighbors=1)\n",
    "\n",
    "accuracies = {}\n",
    "for alpha, (u_r, A) in training_set.items():\n",
    "    projected_training = A.T\n",
    "    projected_tes = np.dot(u_r.T, (x_test - mu).T).T\n",
    "\n",
    "    knn.fit(projected_training, y_train)\n",
    "\n",
    "    predicted_labels =knn.predict(projected_tes)\n",
    "\n",
    "    accuracy = np.mean(predicted_labels == y_test)\n",
    "    accuracies[alpha] = accuracy\n",
    "\n",
    "for alpha, accuracy in accuracies.items():\n",
    "    print(f'Accuracy for alpha: {alpha}: {accuracy:.2f}')"
   ]
  },
  {
   "cell_type": "code",
   "execution_count": 14,
   "metadata": {},
   "outputs": [
    {
     "data": {
      "image/png": "[encoded data removed]",
      "text/plain": [
       "<Figure size 640x480 with 1 Axes>"
      ]
     },
     "metadata": {},
     "output_type": "display_data"
    }
   ],
   "source": [
    "import matplotlib.pyplot as plt\n",
    "\n",
    "alpha_values = list(accuracies.keys())\n",
    "accuracy_score = list(accuracies.values())\n",
    "\n",
    "plt.plot(alpha_values, accuracy_score, marker='o')\n",
    "plt.title('accuracy vs alpha')\n",
    "plt.xlabel('alpha')\n",
    "plt.ylabel('accuracy')\n",
    "plt.grid(True)\n",
    "plt.xticks(alpha_values)\n",
    "\n",
    "plt.show()\n"
   ]
  },
  {
   "cell_type": "markdown",
   "metadata": {},
   "source": [
    "## Classification using LDA"
   ]
  },
  {
   "cell_type": "markdown",
   "metadata": {},
   "source": [
    "### LDA Algorithm"
   ]
  },
  {
   "cell_type": "code",
   "execution_count": 7,
   "metadata": {},
   "outputs": [],
   "source": [
    "def linear_discriminant_analysis(X, y):\n",
    "    # Separate the dataset into class-specific subsets\n",
    "    classes = np.unique(y)\n",
    "    n_features = X.shape[1]\n",
    "    \n",
    "    # Compute the overall mean\n",
    "    overall_mean = np.mean(X, axis=0)\n",
    "    \n",
    "    # Compute the class means and between-class scatter matrix\n",
    "    B = np.zeros((n_features, n_features))\n",
    "    class_means = {}\n",
    "    for c in classes:\n",
    "        class_means[c] = np.mean(X[y == c], axis=0)\n",
    "        n_c = X[y == c].shape[0]\n",
    "        mean_diff = (class_means[c] - overall_mean).reshape(n_features, 1)\n",
    "        B += n_c * (mean_diff @ mean_diff.T) # @ is a matrix multiplication operator\n",
    "    \n",
    "    # Compute the within-class scatter matrix\n",
    "    S = np.zeros((n_features, n_features))\n",
    "    for c in classes:\n",
    "        Z = X[y == c] - class_means[c]\n",
    "        S += Z.T @ Z\n",
    "    \n",
    "    # Solve the eigenvalue problem for S^(-1)B\n",
    "    eigenvalues, eigenvectors = np.linalg.eigh(np.linalg.inv(S) @ B)\n",
    "    \n",
    "    # Sort eigenvectors by eigenvalues in descending order\n",
    "    sorted_indices = np.argsort(eigenvalues)[::-1]\n",
    "    eigenvectors = eigenvectors[:, sorted_indices]\n",
    "    \n",
    "    return eigenvectors"
   ]
  },
  {
   "cell_type": "markdown",
   "metadata": {},
   "source": [
    "### Getting Eigen vectors"
   ]
  },
  {
   "cell_type": "code",
   "execution_count": 8,
   "metadata": {},
   "outputs": [
    {
     "name": "stdout",
     "output_type": "stream",
     "text": [
      "[[ 0.00652133 -0.00539612  0.01021945 ... -0.01045777  0.00580433\n",
      "  -0.00648884]\n",
      " [ 0.0066049  -0.00538013  0.01029594 ... -0.01055159  0.00579431\n",
      "  -0.00657437]\n",
      " [ 0.00633585 -0.00464508  0.0095345  ... -0.00975853  0.00504007\n",
      "  -0.00631163]]\n"
     ]
    }
   ],
   "source": [
    "eigen_vectors = linear_discriminant_analysis(x_train, y_train)\n",
    "print(eigen_vectors[0:3])"
   ]
  },
  {
   "cell_type": "markdown",
   "metadata": {},
   "source": [
    "### Using 39 Dominant vectors"
   ]
  },
  {
   "cell_type": "code",
   "execution_count": 11,
   "metadata": {},
   "outputs": [
    {
     "name": "stdout",
     "output_type": "stream",
     "text": [
      "0.95\n"
     ]
    }
   ],
   "source": [
    "from sklearn.neighbors import KNeighborsClassifier\n",
    "knn = KNeighborsClassifier(n_neighbors=1)\n",
    "\n",
    "proj_train = x_train @ eigen_vectors[:, :39]\n",
    "proj_test = x_test @ eigen_vectors[:, :39]\n",
    "\n",
    "knn.fit(proj_train, y_train)\n",
    "predicted = knn.predict(proj_test)\n",
    "acc = np.mean(predicted == y_test)\n",
    "print(acc)"
   ]
  },
  {
   "cell_type": "markdown",
   "metadata": {},
   "source": [
    "### LDA vs PCA\n",
    "* PCA at alpha equals 0.8, accuracy is 94%\n",
    "* LDA while using best 39 eigen vectors, accuracy is 95%\n",
    "* There is no huge difference between the both algorithms in terms of accuracy"
   ]
  },
  {
   "cell_type": "markdown",
   "metadata": {},
   "source": [
    "## Classifier Tuning"
   ]
  },
  {
   "cell_type": "code",
   "execution_count": null,
   "metadata": {},
   "outputs": [],
   "source": [
    "# for each k value in {1, 3, 5, 7}\n",
    "# we have to make a KNN classifier and measure the accuracy for both PCA and LDA\n",
    "# a list for PCA acc for each k val and LDA acc for each k val"
   ]
  },
  {
   "cell_type": "code",
   "execution_count": null,
   "metadata": {},
   "outputs": [],
   "source": []
  },
  {
   "cell_type": "markdown",
   "metadata": {},
   "source": [
    "## remember the report"
   ]
  }
 ],
 "metadata": {
  "kernelspec": {
   "display_name": "base",
   "language": "python",
   "name": "python3"
  },
  "language_info": {
   "codemirror_mode": {
    "name": "ipython",
    "version": 3
   },
   "file_extension": ".py",
   "mimetype": "text/x-python",
   "name": "python",
   "nbconvert_exporter": "python",
   "pygments_lexer": "ipython3",
   "version": "3.11.5"
  }
 },
 "nbformat": 4,
 "nbformat_minor": 2
}
